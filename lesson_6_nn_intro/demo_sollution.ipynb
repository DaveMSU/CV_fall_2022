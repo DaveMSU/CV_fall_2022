{
 "cells": [
  {
   "cell_type": "code",
   "execution_count": 1,
   "id": "900d1ad6",
   "metadata": {
    "scrolled": true
   },
   "outputs": [],
   "source": [
    "def read_csv(filename):\n",
    "    res = {}\n",
    "    with open(filename) as fhandle:\n",
    "        next(fhandle)\n",
    "        for line in fhandle:\n",
    "            parts = line.rstrip('\\n').split(',')\n",
    "            coords = np.array([float(x) for x in parts[1:]], dtype='float64')\n",
    "            res[parts[0]] = coords\n",
    "    return res"
   ]
  },
  {
   "cell_type": "code",
   "execution_count": 2,
   "id": "144f1fd8",
   "metadata": {},
   "outputs": [
    {
     "name": "stderr",
     "output_type": "stream",
     "text": [
      "/home/david_tyuman/.pyenv/versions/3.8.2/envs/mac_env/lib/python3.8/site-packages/torchvision/io/image.py:11: UserWarning: Failed to load image Python extension: /home/david_tyuman/.pyenv/versions/3.8.2/envs/mac_env/lib/python3.8/site-packages/torchvision/image.so: undefined symbol: _ZNK3c1010TensorImpl36is_contiguous_nondefault_policy_implENS_12MemoryFormatE\n",
      "  warn(f\"Failed to load image Python extension: {e}\")\n"
     ]
    }
   ],
   "source": [
    "import sys; sys.path.append('../')\n",
    "\n",
    "import json\n",
    "import pathlib\n",
    "import typing as tp\n",
    "\n",
    "import cv2\n",
    "import torch\n",
    "import torchvision\n",
    "import pandas as pd\n",
    "import numpy as np\n",
    "from PIL import Image\n",
    "from matplotlib import pyplot as plt\n",
    "from torch.utils.data import DataLoader\n",
    "from torch.utils.tensorboard import SummaryWriter\n",
    "\n",
    "from dataset import (\n",
    "    ImagePointsDataset,\n",
    "    convert_targets_shape,\n",
    "    show_face\n",
    ")\n",
    "from net_factory import NeuralNetwork\n",
    "from transforms import (\n",
    "    FacePointsRandomCropTransform,\n",
    "    FacePointsRandomHorizontalFlipTransform\n",
    ")\n",
    "\n",
    "\n",
    "data_dir = pathlib.Path(\"./data/00_test_img_input\")\n",
    "output_dir = \"\"\n",
    "\n",
    "train_dir = data_dir/'train'\n",
    "test_dir = data_dir/'test'\n",
    "\n",
    "train_gt: tp.Dict[str, np.ndarray] = read_csv(train_dir/'gt.csv')\n",
    "train_img_dir = train_dir/'images'\n",
    "\n",
    "test_img_dir = test_dir/'images'"
   ]
  },
  {
   "cell_type": "code",
   "execution_count": 3,
   "id": "971bff69",
   "metadata": {},
   "outputs": [],
   "source": [
    "# transforms = [\n",
    "#     FacePointsRandomHorizontalFlipTransform(0.5),\n",
    "#     FacePointsRandomCropTransform((0.8, 0.8), skip=True)\n",
    "# ]"
   ]
  },
  {
   "cell_type": "code",
   "execution_count": 4,
   "id": "80a0f9ad",
   "metadata": {},
   "outputs": [
    {
     "data": {
      "text/plain": [
       "5592"
      ]
     },
     "execution_count": 4,
     "metadata": {},
     "output_type": "execute_result"
    }
   ],
   "source": [
    "ds = ImagePointsDataset(\"train\", 0.932, train_img_dir, train_gt)  # , transforms=transforms)\n",
    "len(ds)"
   ]
  },
  {
   "cell_type": "code",
   "execution_count": 5,
   "id": "984f89b0",
   "metadata": {},
   "outputs": [
    {
     "data": {
      "image/png": "[encoded data removed]",
      "text/plain": [
       "<Figure size 432x288 with 1 Axes>"
      ]
     },
     "metadata": {
      "needs_background": "light"
     },
     "output_type": "display_data"
    }
   ],
   "source": [
    "show_face(ds, 2)"
   ]
  },
  {
   "cell_type": "code",
   "execution_count": 6,
   "id": "e4c1b52e",
   "metadata": {},
   "outputs": [],
   "source": [
    "with open('./configs/architectures/simple_cnn.json') as f:\n",
    "    net_arch = json.load(f)"
   ]
  },
  {
   "cell_type": "code",
   "execution_count": 7,
   "id": "48f88db3",
   "metadata": {},
   "outputs": [],
   "source": [
    "with open('./configs/learning_process/base.json') as f:\n",
    "    learning_process = json.load(f)"
   ]
  },
  {
   "cell_type": "code",
   "execution_count": 8,
   "id": "9536a164",
   "metadata": {},
   "outputs": [],
   "source": [
    "dataset_params = learning_process[\"dataset_params\"]\n",
    "train_fraction = dataset_params[\"train_fraction\"]\n",
    "if dataset_params[\"augmentation\"] is None:\n",
    "    transforms = None\n",
    "else:\n",
    "    transforms = [\n",
    "        globals()[dict_[\"transform_type\"]](**dict_[\"params\"])\n",
    "            for dict_ in dataset_params[\"augmentation\"]\n",
    "    ]\n",
    "\n",
    "train_dataset = ImagePointsDataset(\n",
    "    mode=\"train\",\n",
    "    train_fraction=train_fraction,\n",
    "    data_dir=train_img_dir,\n",
    "    train_gt=train_gt,\n",
    "    new_size=dataset_params[\"new_size\"],\n",
    "    transforms=transforms\n",
    ")\n",
    "\n",
    "val_dataset = ImagePointsDataset(\n",
    "    mode=\"val\",\n",
    "    train_fraction=train_fraction,\n",
    "    data_dir=train_img_dir,\n",
    "    train_gt=train_gt,\n",
    "    new_size=dataset_params[\"new_size\"]\n",
    ")\n",
    "\n",
    "train_dataloader = DataLoader(\n",
    "    dataset=train_dataset,\n",
    "    batch_size = dataset_params[\"train_batch_size\"],\n",
    "    shuffle=True\n",
    ")\n",
    "\n",
    "val_dataloader = DataLoader(\n",
    "    dataset=val_dataset,\n",
    "    batch_size = dataset_params[\"val_batch_size\"],\n",
    "    shuffle=True\n",
    ")"
   ]
  },
  {
   "cell_type": "code",
   "execution_count": 9,
   "id": "31d326e1",
   "metadata": {},
   "outputs": [],
   "source": [
    "loss_params = learning_process[\"hyper_params\"][\"loss\"]\n",
    "optimizer_params = learning_process[\"hyper_params\"][\"optimizer\"]\n",
    "epoch_nums = learning_process[\"hyper_params\"][\"epoch_nums\"]\n",
    "\n",
    "net = NeuralNetwork(net_arch)\n",
    "loss = getattr(torch.nn, loss_params[\"loss_type\"])(**loss_params[\"params\"])\n",
    "optimizer = getattr(torch.optim, optimizer_params[\"optimizer_type\"])(\n",
    "    net.parameters(),\n",
    "    **optimizer_params[\"params\"]\n",
    ")\n",
    "optimizer.zero_grad()\n",
    "\n",
    "best_val_loss = float(\"inf\")"
   ]
  },
  {
   "cell_type": "code",
   "execution_count": null,
   "id": "791160d1",
   "metadata": {},
   "outputs": [],
   "source": []
  },
  {
   "cell_type": "code",
   "execution_count": null,
   "id": "1a86329c",
   "metadata": {},
   "outputs": [
    {
     "name": "stdout",
     "output_type": "stream",
     "text": [
      "epoch=0:\n",
      "train_loss: 0.0145\r"
     ]
    }
   ],
   "source": [
    "!rm -rf ./runs\n",
    "\n",
    "# default `log_dir` is \"runs\".\n",
    "writer = SummaryWriter('./runs')\n",
    "\n",
    "for epoch in range(epoch_nums):\n",
    "    print(f\"{epoch=}:\")\n",
    "\n",
    "    net.train()\n",
    "    loss_history = []\n",
    "    for X, y, _ in train_dataloader:\n",
    "        optimizer.zero_grad()\n",
    "        y_pred = net(X)\n",
    "        loss_value = loss(y_pred, y)\n",
    "        loss_value.backward()\n",
    "        optimizer.step()\n",
    "        cur_train_loss = loss_value.cpu().data.item()\n",
    "        loss_history.append(cur_train_loss)\n",
    "        print(\"train_loss: %.4f\" % cur_train_loss, end='\\r')\n",
    "\n",
    "    train_loss = np.mean(loss_history)\n",
    "    print(\"train_loss:\\t%.5f\" % train_loss)\n",
    "\n",
    "    net.eval()\n",
    "    loss_history = []\n",
    "    with torch.no_grad():\n",
    "        for X, y, shape in val_dataloader:\n",
    "            shape = shape.numpy()\n",
    "            y_pred = net(X)\n",
    "            loss_value = loss(y_pred, y) \n",
    "            loss_history.append(loss_value.cpu().data.item())\n",
    "\n",
    "    val_loss = np.mean(loss_history)\n",
    "    print(\"val_loss:\\t%.5f\" % val_loss)\n",
    "    print(\"val_quality:\\t%.5f\" % (val_loss * 100**2))\n",
    "    \n",
    "    writer.add_scalars(\n",
    "        'Loss', \n",
    "        {\n",
    "            'train': train_loss,\n",
    "            'val': val_loss\n",
    "        },\n",
    "        epoch\n",
    "    )\n",
    "    \n",
    "    if val_loss < best_val_loss:\n",
    "        best_val_loss = val_loss\n",
    "        torch.save(\n",
    "            {\n",
    "                'model_state_dict': net.state_dict(),\n",
    "                'optimizer_state_dict': optimizer.state_dict()\n",
    "            },\n",
    "            pathlib.Path(\"./facepoints_model.ckpt\")\n",
    "        )\n",
    "        print(\"*\")\n",
    "    print()\n",
    "\n",
    "writer.close()"
   ]
  },
  {
   "cell_type": "code",
   "execution_count": 266,
   "id": "acdfa43f",
   "metadata": {},
   "outputs": [],
   "source": [
    "net = NeuralNetwork(net_arch)\n",
    "optimizer = getattr(torch.optim, optimizer_params[\"optimizer_type\"])(\n",
    "    net.parameters(),\n",
    "    **optimizer_params[\"params\"]\n",
    ")\n",
    "\n",
    "checkpoint = torch.load(\"./facepoints_model.ckpt\")\n",
    "net.load_state_dict(checkpoint['model_state_dict'])\n",
    "optimizer.load_state_dict(checkpoint['optimizer_state_dict'])"
   ]
  },
  {
   "cell_type": "code",
   "execution_count": 157,
   "id": "bb218cfc",
   "metadata": {},
   "outputs": [],
   "source": [
    "test_gt = {path.name: np.array([]) for path in test_img_dir.iterdir()}"
   ]
  },
  {
   "cell_type": "code",
   "execution_count": 215,
   "id": "fc51c8f1",
   "metadata": {},
   "outputs": [],
   "source": [
    "dataset_params = learning_process[\"dataset_params\"]\n",
    "\n",
    "test_dataset = ImagePointsDataset(\n",
    "    mode=\"test\",\n",
    "    train_fraction=0.0,\n",
    "    data_dir=test_img_dir,\n",
    "    train_gt=test_gt,\n",
    "    new_size=dataset_params[\"new_size\"]\n",
    ")\n",
    "\n",
    "test_dataloader = DataLoader(\n",
    "    dataset=test_dataset,\n",
    "    batch_size = dataset_params[\"val_batch_size\"],\n",
    "    shuffle=False\n",
    ")"
   ]
  },
  {
   "cell_type": "code",
   "execution_count": 238,
   "id": "d874486f",
   "metadata": {},
   "outputs": [
    {
     "name": "stdout",
     "output_type": "stream",
     "text": [
      "iter=0/59\r"
     ]
    }
   ],
   "source": [
    "y_pred_history = []\n",
    "for i, (X, y, _) in enumerate(val_dataloader):\n",
    "    print(f\"iter={i}/{len(test_dataloader) - 1}\", end='\\r')\n",
    "    y_pred = net(X)\n",
    "    y_pred_reshaped = convert_targets_shape(\n",
    "        y_pred.cpu().data.numpy(),\n",
    "        test_dataset.shape\n",
    "    )\n",
    "    y_pred_history.extend(y_pred_reshaped.tolist())\n",
    "    break"
   ]
  },
  {
   "cell_type": "code",
   "execution_count": 241,
   "id": "20ea7c01",
   "metadata": {},
   "outputs": [
    {
     "data": {
      "text/plain": [
       "<matplotlib.collections.PathCollection at 0x7fae5d448100>"
      ]
     },
     "execution_count": 241,
     "metadata": {},
     "output_type": "execute_result"
    },
    {
     "data": {
      "image/png": "[encoded data removed]",
      "text/plain": [
       "<Figure size 432x288 with 1 Axes>"
      ]
     },
     "metadata": {
      "needs_background": "light"
     },
     "output_type": "display_data"
    }
   ],
   "source": [
    "i += 1\n",
    "\n",
    "plt.imshow(val_dataset[i][0].numpy().transpose(1, 2, 0));\n",
    "plt.scatter(y_pred_history[i][::2], y_pred_history[i][1::2])"
   ]
  },
  {
   "cell_type": "code",
   "execution_count": 65,
   "id": "fb5fddfb",
   "metadata": {},
   "outputs": [],
   "source": [
    "d = []\n",
    "d.extend(y_pred.cpu().data.tolist())\n",
    "d.extend(y_pred.cpu().data.tolist())"
   ]
  },
  {
   "cell_type": "code",
   "execution_count": null,
   "id": "446d0d21",
   "metadata": {},
   "outputs": [],
   "source": []
  },
  {
   "cell_type": "code",
   "execution_count": 408,
   "id": "365340ec",
   "metadata": {},
   "outputs": [
    {
     "data": {
      "text/plain": [
       "(tensor([[0.2690, 0.2840, 0.4220, 0.2754, 0.5755, 0.2979, 0.7259, 0.3105, 0.3061,\n",
       "          0.3598, 0.3619, 0.3624, 0.4086, 0.3520, 0.5807, 0.3439, 0.6322, 0.3450,\n",
       "          0.7278, 0.3623, 0.4857, 0.5165, 0.3973, 0.6255, 0.4922, 0.6351, 0.6273,\n",
       "          0.6611]], grad_fn=<SigmoidBackward0>),\n",
       " tensor([0.2222, 0.2407, 0.4074, 0.2407, 0.5926, 0.2222, 0.7222, 0.2037, 0.2593,\n",
       "         0.2963, 0.2963, 0.2963, 0.3519, 0.2963, 0.6667, 0.2963, 0.7222, 0.2963,\n",
       "         0.7593, 0.2963, 0.5556, 0.5556, 0.3148, 0.6667, 0.5000, 0.6852, 0.6481,\n",
       "         0.6481]))"
      ]
     },
     "execution_count": 408,
     "metadata": {},
     "output_type": "execute_result"
    }
   ],
   "source": [
    "net(val_dataset[0][0].unsqueeze(0)),\\\n",
    "val_dataset[0][1]"
   ]
  },
  {
   "cell_type": "code",
   "execution_count": null,
   "id": "10d93f90",
   "metadata": {},
   "outputs": [],
   "source": []
  },
  {
   "cell_type": "code",
   "execution_count": 606,
   "id": "04b8ffe7",
   "metadata": {},
   "outputs": [],
   "source": [
    "def train_detector(\n",
    "        train_gt: tp.Dict[str, np.ndarray],\n",
    "        train_img_dir: pathlib.PosixPath,\n",
    "        fast_train: bool\n",
    ") -> NeuralNetwork:\n",
    "    \n",
    "    # Create train and val Dataloaders.\n",
    "    train_fraction = 0.9\n",
    "\n",
    "    train_dataset = ImagePointsDataset(\n",
    "        mode=\"train\",\n",
    "        train_fraction=train_fraction,\n",
    "        data_dir=train_img_dir,\n",
    "        train_gt=train_gt,\n",
    "        new_size=(64, 64)\n",
    "    )\n",
    "\n",
    "    val_dataset = ImagePointsDataset(\n",
    "        mode=\"val\",\n",
    "        train_fraction=train_fraction,\n",
    "        data_dir=train_img_dir,\n",
    "        train_gt=train_gt,\n",
    "        new_size=(64, 64)\n",
    "    )\n",
    "\n",
    "    train_dataloader = DataLoader(\n",
    "        dataset=train_dataset,\n",
    "        batch_size = 100,\n",
    "        shuffle=True\n",
    "    )\n",
    "\n",
    "    val_dataloader = DataLoader(\n",
    "        dataset=val_dataset,\n",
    "        batch_size = 100,\n",
    "        shuffle=True\n",
    "    )\n",
    "\n",
    "    # Init blank model and optimizer.\n",
    "    net = NeuralNetwork()\n",
    "    loss = torch.nn.MSELoss()\n",
    "    optimizer = torch.optim.SGD(net.parameters(), lr=0.5)\n",
    "    optimizer.zero_grad()\n",
    "\n",
    "    epoch_nums = 1 if fast_train else 30\n",
    "    best_val_loss = float(\"inf\")\n",
    "    \n",
    "    # Process of training and validation.\n",
    "    for epoch in range(epoch_nums):\n",
    "        if not fast_train:\n",
    "            print(f\"{epoch=}:\")\n",
    "\n",
    "        loss_history = []\n",
    "        for i, (X, y, _) in enumerate(train_dataloader):\n",
    "            if fast_train and i > 20:\n",
    "                break\n",
    "            optimizer.zero_grad()\n",
    "            y_pred = net(X)\n",
    "            loss_value = loss(y_pred, y)\n",
    "            loss_value.backward()\n",
    "            optimizer.step()\n",
    "            loss_history.append(loss_value.cpu().data.item())\n",
    "            if not fast_train:\n",
    "                print(\"train_loss: %.4f\" % loss_value.cpu().data.item(), end='\\r')\n",
    "\n",
    "        train_loss = np.mean(loss_history)\n",
    "        if not fast_train:\n",
    "            print(\"train_loss:\\t%.5f\" % train_loss)\n",
    "\n",
    "        loss_history = []\n",
    "        for X, y, shape in val_dataloader:\n",
    "            shape = shape.numpy()\n",
    "            y_pred = net(X)\n",
    "            loss_value = loss(y_pred, y) \n",
    "            loss_history.append(loss_value.cpu().data.item())\n",
    "            if fast_train:\n",
    "                break\n",
    "        val_loss = np.mean(loss_history)\n",
    "        if not fast_train:\n",
    "            print(\"val_loss:\\t%.5f\" % val_loss)\n",
    "            print(\"val_quality:\\t%.5f\" % (val_loss * 100**2))\n",
    "\n",
    "        if not fast_train and val_loss < best_val_loss:\n",
    "            best_val_loss = val_loss\n",
    "            torch.save(\n",
    "                {\n",
    "                    'model_state_dict': net.state_dict()\n",
    "                },\n",
    "                pathlib.Path(\"./facepoints_model.ckpt\")\n",
    "            )\n",
    "            print(\"*\")\n",
    "\n",
    "        if not fast_train:\n",
    "            print()\n",
    "            \n",
    "    # Load best one model.\n",
    "    if not fast_train:\n",
    "        net = NeuralNetwork()\n",
    "        checkpoint = torch.load(\"./facepoints_model.ckpt\")\n",
    "        net.load_state_dict(checkpoint['model_state_dict'])       \n",
    "            \n",
    "    return net"
   ]
  },
  {
   "cell_type": "code",
   "execution_count": null,
   "id": "18af66c5",
   "metadata": {},
   "outputs": [],
   "source": [
    "# detected_points = detect(model_filename, test_img_dir)\n",
    "def detect(\n",
    "        model_filename: str,\n",
    "        test_img_dir: pathlib.PosixPath\n",
    ") -> np.ndarray:\n",
    "    net = NeuralNetwork()\n",
    "    checkpoint = torch.load(model_filename)\n",
    "    net.load_state_dict(checkpoint['model_state_dict'])\n",
    "\n",
    "    train_dataset = ImagePointsDataset(\n",
    "        mode=\"val\",\n",
    "        train_fraction=0.0,\n",
    "        data_dir=test_img_dir,\n",
    "        train_gt=None,\n",
    "        new_size=(64, 64)\n",
    "    )\n",
    "    \n",
    "    train_dataloader = DataLoader(\n",
    "        dataset=train_dataset,\n",
    "        batch_size = 100,\n",
    "        shuffle=True\n",
    "    )    \n",
    "    "
   ]
  },
  {
   "cell_type": "code",
   "execution_count": null,
   "id": "69fb9d47",
   "metadata": {},
   "outputs": [],
   "source": []
  }
 ],
 "metadata": {
  "kernelspec": {
   "display_name": "Python 3 (ipykernel)",
   "language": "python",
   "name": "python3"
  },
  "language_info": {
   "codemirror_mode": {
    "name": "ipython",
    "version": 3
   },
   "file_extension": ".py",
   "mimetype": "text/x-python",
   "name": "python",
   "nbconvert_exporter": "python",
   "pygments_lexer": "ipython3",
   "version": "3.8.2"
  }
 },
 "nbformat": 4,
 "nbformat_minor": 5
}
