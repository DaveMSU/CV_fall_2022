{
 "cells": [
  {
   "cell_type": "code",
   "execution_count": 1,
   "id": "900d1ad6",
   "metadata": {
    "scrolled": true
   },
   "outputs": [],
   "source": [
    "# # import os\n",
    "# import json\n",
    "# import pathlib\n",
    "# import typing as tp\n",
    "# # from os.path import abspath, dirname, join\n",
    "\n",
    "# import cv2\n",
    "# import torch\n",
    "# import pandas as pd\n",
    "# import numpy as np\n",
    "# from PIL import Image\n",
    "# from matplotlib import pyplot as plt\n",
    "# from torch.utils.data import DataLoader\n",
    "# from torch.utils.tensorboard import SummaryWriter\n",
    "\n",
    "# # from dataset import (\n",
    "# #     ImagePointsDataset,\n",
    "# #     convert_targets_shape,\n",
    "# #     show_face\n",
    "# # )\n",
    "# # from model import NeuralNetwork\n",
    "# from detection import train_detector, detect\n",
    "\n",
    "\n",
    "def read_csv(filename):\n",
    "    res = {}\n",
    "    with open(filename) as fhandle:\n",
    "        next(fhandle)\n",
    "        for line in fhandle:\n",
    "            parts = line.rstrip('\\n').split(',')\n",
    "            coords = np.array([float(x) for x in parts[1:]], dtype='float64')\n",
    "            res[parts[0]] = coords\n",
    "    return res\n",
    "\n",
    "\n",
    "# data_dir = pathlib.Path(\"/home/david/study/shad/cv_fall_2022/lesson_6_nn_intro/public_tests/00_test_img_input\")\n",
    "# output_dir = \"\"\n",
    "\n",
    "# train_dir = data_dir/'train'\n",
    "# test_dir = data_dir/'test'\n",
    "\n",
    "# train_gt: tp.Dict[str, np.ndarray] = read_csv(train_dir/'gt.csv')\n",
    "# train_img_dir = train_dir/'images'\n",
    "\n",
    "# NET_ARCHITECTURE = []\n",
    "\n",
    "# model = train_detector(train_gt, train_img_dir, fast_train=False)\n",
    "\n",
    "# # code_dir = dirname(abspath(__file__))\n",
    "# # model_filename = join(code_dir, 'facepoints_model.ckpt')\n",
    "# model_filename = './facepoints_model.ckpt'\n",
    "# test_img_dir = test_dir/'images'\n",
    "# detected_points = detect(model_filename, test_img_dir)\n",
    "# # save_csv(detected_points, join(output_dir, 'output.csv'))"
   ]
  },
  {
   "cell_type": "code",
   "execution_count": 2,
   "id": "144f1fd8",
   "metadata": {},
   "outputs": [],
   "source": [
    "import json\n",
    "import pathlib\n",
    "import typing as tp\n",
    "\n",
    "import cv2\n",
    "import torch\n",
    "import torchvision\n",
    "import pandas as pd\n",
    "import numpy as np\n",
    "from PIL import Image\n",
    "from matplotlib import pyplot as plt\n",
    "from torch.utils.data import DataLoader\n",
    "from torch.utils.tensorboard import SummaryWriter\n",
    "\n",
    "from dataset import (\n",
    "    ImagePointsDataset,\n",
    "    convert_targets_shape,\n",
    "    show_face\n",
    ")\n",
    "from model import NeuralNetwork\n",
    "from transforms import (\n",
    "    FacePointsRandomCropTransform,\n",
    "    FacePointsRandomHorizontalFlipTransform\n",
    ")\n",
    "\n",
    "\n",
    "data_dir = pathlib.Path(\"/home/david/study/shad/cv_fall_2022/lesson_6_nn_intro/public_tests/00_test_img_input\")\n",
    "output_dir = \"\"\n",
    "\n",
    "train_dir = data_dir/'train'\n",
    "test_dir = data_dir/'test'\n",
    "\n",
    "train_gt: tp.Dict[str, np.ndarray] = read_csv(train_dir/'gt.csv')\n",
    "train_img_dir = train_dir/'images'\n",
    "\n",
    "test_img_dir = test_dir/'images'"
   ]
  },
  {
   "cell_type": "code",
   "execution_count": 3,
   "id": "4465f48e",
   "metadata": {},
   "outputs": [],
   "source": [
    "# transforms = [\n",
    "#     FacePointsRandomHorizontalFlipTransform(0.5),\n",
    "#     FacePointsRandomCropTransform((0.8, 0.8), skip=True)\n",
    "# ]"
   ]
  },
  {
   "cell_type": "code",
   "execution_count": 4,
   "id": "80a0f9ad",
   "metadata": {},
   "outputs": [
    {
     "data": {
      "text/plain": [
       "5592"
      ]
     },
     "execution_count": 4,
     "metadata": {},
     "output_type": "execute_result"
    }
   ],
   "source": [
    "ds = ImagePointsDataset(\"train\", 0.932, train_img_dir, train_gt)  # , transforms=transforms)\n",
    "len(ds)"
   ]
  },
  {
   "cell_type": "code",
   "execution_count": 5,
   "id": "e4c1b52e",
   "metadata": {},
   "outputs": [],
   "source": [
    "with open('./configs/architectures/simple_cnn.json') as f:\n",
    "    net_arch = json.load(f)"
   ]
  },
  {
   "cell_type": "code",
   "execution_count": 6,
   "id": "48f88db3",
   "metadata": {},
   "outputs": [],
   "source": [
    "with open('./configs/learning_process/base.json') as f:\n",
    "    learning_process = json.load(f)"
   ]
  },
  {
   "cell_type": "code",
   "execution_count": 7,
   "id": "9536a164",
   "metadata": {},
   "outputs": [],
   "source": [
    "dataset_params = learning_process[\"dataset_params\"]\n",
    "train_fraction = dataset_params[\"train_fraction\"]\n",
    "transforms = [\n",
    "    globals()[dict_[\"transform_type\"]](**dict_[\"params\"]) \n",
    "        for dict_ in dataset_params[\"augmentation\"]\n",
    "]\n",
    "\n",
    "train_dataset = ImagePointsDataset(\n",
    "    mode=\"train\",\n",
    "    train_fraction=train_fraction,\n",
    "    data_dir=train_img_dir,\n",
    "    train_gt=train_gt,\n",
    "    new_size=dataset_params[\"new_size\"],\n",
    "    transforms=transforms\n",
    ")\n",
    "\n",
    "val_dataset = ImagePointsDataset(\n",
    "    mode=\"val\",\n",
    "    train_fraction=train_fraction,\n",
    "    data_dir=train_img_dir,\n",
    "    train_gt=train_gt,\n",
    "    new_size=dataset_params[\"new_size\"]\n",
    ")\n",
    "\n",
    "train_dataloader = DataLoader(\n",
    "    dataset=train_dataset,\n",
    "    batch_size = dataset_params[\"train_batch_size\"],\n",
    "    shuffle=True\n",
    ")\n",
    "\n",
    "val_dataloader = DataLoader(\n",
    "    dataset=val_dataset,\n",
    "    batch_size = dataset_params[\"val_batch_size\"],\n",
    "    shuffle=True\n",
    ")"
   ]
  },
  {
   "cell_type": "code",
   "execution_count": 8,
   "id": "31d326e1",
   "metadata": {},
   "outputs": [],
   "source": [
    "loss_params = learning_process[\"hyper_params\"][\"loss\"]\n",
    "optimizer_params = learning_process[\"hyper_params\"][\"optimizer\"]\n",
    "epoch_nums = learning_process[\"hyper_params\"][\"epoch_nums\"]\n",
    "\n",
    "net = NeuralNetwork(net_arch)\n",
    "loss = getattr(torch.nn, loss_params[\"loss_type\"])(**loss_params[\"params\"])\n",
    "optimizer = getattr(torch.optim, optimizer_params[\"optimizer_type\"])(\n",
    "    net.parameters(),\n",
    "    **optimizer_params[\"params\"]\n",
    ")\n",
    "optimizer.zero_grad()\n",
    "\n",
    "best_val_loss = float(\"inf\")"
   ]
  },
  {
   "cell_type": "code",
   "execution_count": null,
   "id": "791160d1",
   "metadata": {},
   "outputs": [],
   "source": []
  },
  {
   "cell_type": "code",
   "execution_count": 9,
   "id": "1a86329c",
   "metadata": {},
   "outputs": [
    {
     "name": "stdout",
     "output_type": "stream",
     "text": [
      "epoch=0:\n",
      "train_loss: 0.0566\r"
     ]
    },
    {
     "ename": "KeyboardInterrupt",
     "evalue": "",
     "output_type": "error",
     "traceback": [
      "\u001b[0;31m---------------------------------------------------------------------------\u001b[0m",
      "\u001b[0;31mKeyboardInterrupt\u001b[0m                         Traceback (most recent call last)",
      "Cell \u001b[0;32mIn [9], line 11\u001b[0m\n\u001b[1;32m      9\u001b[0m net\u001b[38;5;241m.\u001b[39mtrain()\n\u001b[1;32m     10\u001b[0m loss_history \u001b[38;5;241m=\u001b[39m []\n\u001b[0;32m---> 11\u001b[0m \u001b[38;5;28;01mfor\u001b[39;00m X, y, _ \u001b[38;5;129;01min\u001b[39;00m train_dataloader:\n\u001b[1;32m     12\u001b[0m     optimizer\u001b[38;5;241m.\u001b[39mzero_grad()\n\u001b[1;32m     13\u001b[0m     y_pred \u001b[38;5;241m=\u001b[39m net(X)\n",
      "File \u001b[0;32m~/.pyenv/envs/main_py/lib/python3.9/site-packages/torch/utils/data/dataloader.py:681\u001b[0m, in \u001b[0;36m_BaseDataLoaderIter.__next__\u001b[0;34m(self)\u001b[0m\n\u001b[1;32m    678\u001b[0m \u001b[38;5;28;01mif\u001b[39;00m \u001b[38;5;28mself\u001b[39m\u001b[38;5;241m.\u001b[39m_sampler_iter \u001b[38;5;129;01mis\u001b[39;00m \u001b[38;5;28;01mNone\u001b[39;00m:\n\u001b[1;32m    679\u001b[0m     \u001b[38;5;66;03m# TODO(https://github.com/pytorch/pytorch/issues/76750)\u001b[39;00m\n\u001b[1;32m    680\u001b[0m     \u001b[38;5;28mself\u001b[39m\u001b[38;5;241m.\u001b[39m_reset()  \u001b[38;5;66;03m# type: ignore[call-arg]\u001b[39;00m\n\u001b[0;32m--> 681\u001b[0m data \u001b[38;5;241m=\u001b[39m \u001b[38;5;28;43mself\u001b[39;49m\u001b[38;5;241;43m.\u001b[39;49m\u001b[43m_next_data\u001b[49m\u001b[43m(\u001b[49m\u001b[43m)\u001b[49m\n\u001b[1;32m    682\u001b[0m \u001b[38;5;28mself\u001b[39m\u001b[38;5;241m.\u001b[39m_num_yielded \u001b[38;5;241m+\u001b[39m\u001b[38;5;241m=\u001b[39m \u001b[38;5;241m1\u001b[39m\n\u001b[1;32m    683\u001b[0m \u001b[38;5;28;01mif\u001b[39;00m \u001b[38;5;28mself\u001b[39m\u001b[38;5;241m.\u001b[39m_dataset_kind \u001b[38;5;241m==\u001b[39m _DatasetKind\u001b[38;5;241m.\u001b[39mIterable \u001b[38;5;129;01mand\u001b[39;00m \\\n\u001b[1;32m    684\u001b[0m         \u001b[38;5;28mself\u001b[39m\u001b[38;5;241m.\u001b[39m_IterableDataset_len_called \u001b[38;5;129;01mis\u001b[39;00m \u001b[38;5;129;01mnot\u001b[39;00m \u001b[38;5;28;01mNone\u001b[39;00m \u001b[38;5;129;01mand\u001b[39;00m \\\n\u001b[1;32m    685\u001b[0m         \u001b[38;5;28mself\u001b[39m\u001b[38;5;241m.\u001b[39m_num_yielded \u001b[38;5;241m>\u001b[39m \u001b[38;5;28mself\u001b[39m\u001b[38;5;241m.\u001b[39m_IterableDataset_len_called:\n",
      "File \u001b[0;32m~/.pyenv/envs/main_py/lib/python3.9/site-packages/torch/utils/data/dataloader.py:721\u001b[0m, in \u001b[0;36m_SingleProcessDataLoaderIter._next_data\u001b[0;34m(self)\u001b[0m\n\u001b[1;32m    719\u001b[0m \u001b[38;5;28;01mdef\u001b[39;00m \u001b[38;5;21m_next_data\u001b[39m(\u001b[38;5;28mself\u001b[39m):\n\u001b[1;32m    720\u001b[0m     index \u001b[38;5;241m=\u001b[39m \u001b[38;5;28mself\u001b[39m\u001b[38;5;241m.\u001b[39m_next_index()  \u001b[38;5;66;03m# may raise StopIteration\u001b[39;00m\n\u001b[0;32m--> 721\u001b[0m     data \u001b[38;5;241m=\u001b[39m \u001b[38;5;28;43mself\u001b[39;49m\u001b[38;5;241;43m.\u001b[39;49m\u001b[43m_dataset_fetcher\u001b[49m\u001b[38;5;241;43m.\u001b[39;49m\u001b[43mfetch\u001b[49m\u001b[43m(\u001b[49m\u001b[43mindex\u001b[49m\u001b[43m)\u001b[49m  \u001b[38;5;66;03m# may raise StopIteration\u001b[39;00m\n\u001b[1;32m    722\u001b[0m     \u001b[38;5;28;01mif\u001b[39;00m \u001b[38;5;28mself\u001b[39m\u001b[38;5;241m.\u001b[39m_pin_memory:\n\u001b[1;32m    723\u001b[0m         data \u001b[38;5;241m=\u001b[39m _utils\u001b[38;5;241m.\u001b[39mpin_memory\u001b[38;5;241m.\u001b[39mpin_memory(data, \u001b[38;5;28mself\u001b[39m\u001b[38;5;241m.\u001b[39m_pin_memory_device)\n",
      "File \u001b[0;32m~/.pyenv/envs/main_py/lib/python3.9/site-packages/torch/utils/data/_utils/fetch.py:49\u001b[0m, in \u001b[0;36m_MapDatasetFetcher.fetch\u001b[0;34m(self, possibly_batched_index)\u001b[0m\n\u001b[1;32m     47\u001b[0m \u001b[38;5;28;01mdef\u001b[39;00m \u001b[38;5;21mfetch\u001b[39m(\u001b[38;5;28mself\u001b[39m, possibly_batched_index):\n\u001b[1;32m     48\u001b[0m     \u001b[38;5;28;01mif\u001b[39;00m \u001b[38;5;28mself\u001b[39m\u001b[38;5;241m.\u001b[39mauto_collation:\n\u001b[0;32m---> 49\u001b[0m         data \u001b[38;5;241m=\u001b[39m [\u001b[38;5;28mself\u001b[39m\u001b[38;5;241m.\u001b[39mdataset[idx] \u001b[38;5;28;01mfor\u001b[39;00m idx \u001b[38;5;129;01min\u001b[39;00m possibly_batched_index]\n\u001b[1;32m     50\u001b[0m     \u001b[38;5;28;01melse\u001b[39;00m:\n\u001b[1;32m     51\u001b[0m         data \u001b[38;5;241m=\u001b[39m \u001b[38;5;28mself\u001b[39m\u001b[38;5;241m.\u001b[39mdataset[possibly_batched_index]\n",
      "File \u001b[0;32m~/.pyenv/envs/main_py/lib/python3.9/site-packages/torch/utils/data/_utils/fetch.py:49\u001b[0m, in \u001b[0;36m<listcomp>\u001b[0;34m(.0)\u001b[0m\n\u001b[1;32m     47\u001b[0m \u001b[38;5;28;01mdef\u001b[39;00m \u001b[38;5;21mfetch\u001b[39m(\u001b[38;5;28mself\u001b[39m, possibly_batched_index):\n\u001b[1;32m     48\u001b[0m     \u001b[38;5;28;01mif\u001b[39;00m \u001b[38;5;28mself\u001b[39m\u001b[38;5;241m.\u001b[39mauto_collation:\n\u001b[0;32m---> 49\u001b[0m         data \u001b[38;5;241m=\u001b[39m [\u001b[38;5;28;43mself\u001b[39;49m\u001b[38;5;241;43m.\u001b[39;49m\u001b[43mdataset\u001b[49m\u001b[43m[\u001b[49m\u001b[43midx\u001b[49m\u001b[43m]\u001b[49m \u001b[38;5;28;01mfor\u001b[39;00m idx \u001b[38;5;129;01min\u001b[39;00m possibly_batched_index]\n\u001b[1;32m     50\u001b[0m     \u001b[38;5;28;01melse\u001b[39;00m:\n\u001b[1;32m     51\u001b[0m         data \u001b[38;5;241m=\u001b[39m \u001b[38;5;28mself\u001b[39m\u001b[38;5;241m.\u001b[39mdataset[possibly_batched_index]\n",
      "File \u001b[0;32m~/study/shad/cv_fall_2022/lesson_6_nn_intro/dataset.py:78\u001b[0m, in \u001b[0;36mImagePointsDataset.__getitem__\u001b[0;34m(self, index)\u001b[0m\n\u001b[1;32m     75\u001b[0m target \u001b[38;5;241m=\u001b[39m pair[\u001b[38;5;124m\"\u001b[39m\u001b[38;5;124mtarget\u001b[39m\u001b[38;5;124m\"\u001b[39m]\u001b[38;5;241m.\u001b[39mcopy()\n\u001b[1;32m     77\u001b[0m \u001b[38;5;66;03m## Load image.\u001b[39;00m\n\u001b[0;32m---> 78\u001b[0m image \u001b[38;5;241m=\u001b[39m \u001b[43mImage\u001b[49m\u001b[38;5;241;43m.\u001b[39;49m\u001b[43mopen\u001b[49m\u001b[43m(\u001b[49m\u001b[43mimg_path\u001b[49m\u001b[43m)\u001b[49m\u001b[38;5;241m.\u001b[39mconvert(\u001b[38;5;124m'\u001b[39m\u001b[38;5;124mRGB\u001b[39m\u001b[38;5;124m'\u001b[39m)\n\u001b[1;32m     79\u001b[0m \u001b[38;5;28;01mif\u001b[39;00m \u001b[38;5;28mself\u001b[39m\u001b[38;5;241m.\u001b[39m_transforms:\n\u001b[1;32m     80\u001b[0m     \u001b[38;5;28;01mfor\u001b[39;00m transform \u001b[38;5;129;01min\u001b[39;00m \u001b[38;5;28mself\u001b[39m\u001b[38;5;241m.\u001b[39m_transforms:\n",
      "File \u001b[0;32m~/.pyenv/envs/main_py/lib/python3.9/site-packages/PIL/Image.py:3087\u001b[0m, in \u001b[0;36mopen\u001b[0;34m(fp, mode, formats)\u001b[0m\n\u001b[1;32m   3085\u001b[0m filename \u001b[38;5;241m=\u001b[39m \u001b[38;5;124m\"\u001b[39m\u001b[38;5;124m\"\u001b[39m\n\u001b[1;32m   3086\u001b[0m \u001b[38;5;28;01mif\u001b[39;00m \u001b[38;5;28misinstance\u001b[39m(fp, Path):\n\u001b[0;32m-> 3087\u001b[0m     filename \u001b[38;5;241m=\u001b[39m \u001b[38;5;28mstr\u001b[39m(\u001b[43mfp\u001b[49m\u001b[38;5;241;43m.\u001b[39;49m\u001b[43mresolve\u001b[49m\u001b[43m(\u001b[49m\u001b[43m)\u001b[49m)\n\u001b[1;32m   3088\u001b[0m \u001b[38;5;28;01melif\u001b[39;00m is_path(fp):\n\u001b[1;32m   3089\u001b[0m     filename \u001b[38;5;241m=\u001b[39m fp\n",
      "File \u001b[0;32m~/.pyenv/versions/3.9.7/lib/python3.9/pathlib.py:1215\u001b[0m, in \u001b[0;36mPath.resolve\u001b[0;34m(self, strict)\u001b[0m\n\u001b[1;32m   1209\u001b[0m \u001b[38;5;28;01mdef\u001b[39;00m \u001b[38;5;21mresolve\u001b[39m(\u001b[38;5;28mself\u001b[39m, strict\u001b[38;5;241m=\u001b[39m\u001b[38;5;28;01mFalse\u001b[39;00m):\n\u001b[1;32m   1210\u001b[0m     \u001b[38;5;124;03m\"\"\"\u001b[39;00m\n\u001b[1;32m   1211\u001b[0m \u001b[38;5;124;03m    Make the path absolute, resolving all symlinks on the way and also\u001b[39;00m\n\u001b[1;32m   1212\u001b[0m \u001b[38;5;124;03m    normalizing it (for example turning slashes into backslashes under\u001b[39;00m\n\u001b[1;32m   1213\u001b[0m \u001b[38;5;124;03m    Windows).\u001b[39;00m\n\u001b[1;32m   1214\u001b[0m \u001b[38;5;124;03m    \"\"\"\u001b[39;00m\n\u001b[0;32m-> 1215\u001b[0m     s \u001b[38;5;241m=\u001b[39m \u001b[38;5;28;43mself\u001b[39;49m\u001b[38;5;241;43m.\u001b[39;49m\u001b[43m_flavour\u001b[49m\u001b[38;5;241;43m.\u001b[39;49m\u001b[43mresolve\u001b[49m\u001b[43m(\u001b[49m\u001b[38;5;28;43mself\u001b[39;49m\u001b[43m,\u001b[49m\u001b[43m \u001b[49m\u001b[43mstrict\u001b[49m\u001b[38;5;241;43m=\u001b[39;49m\u001b[43mstrict\u001b[49m\u001b[43m)\u001b[49m\n\u001b[1;32m   1216\u001b[0m     \u001b[38;5;28;01mif\u001b[39;00m s \u001b[38;5;129;01mis\u001b[39;00m \u001b[38;5;28;01mNone\u001b[39;00m:\n\u001b[1;32m   1217\u001b[0m         \u001b[38;5;66;03m# No symlink resolution => for consistency, raise an error if\u001b[39;00m\n\u001b[1;32m   1218\u001b[0m         \u001b[38;5;66;03m# the path doesn't exist or is forbidden\u001b[39;00m\n\u001b[1;32m   1219\u001b[0m         \u001b[38;5;28mself\u001b[39m\u001b[38;5;241m.\u001b[39mstat()\n",
      "File \u001b[0;32m~/.pyenv/versions/3.9.7/lib/python3.9/pathlib.py:373\u001b[0m, in \u001b[0;36m_PosixFlavour.resolve\u001b[0;34m(self, path, strict)\u001b[0m\n\u001b[1;32m    370\u001b[0m \u001b[38;5;66;03m# NOTE: according to POSIX, getcwd() cannot contain path components\u001b[39;00m\n\u001b[1;32m    371\u001b[0m \u001b[38;5;66;03m# which are symlinks.\u001b[39;00m\n\u001b[1;32m    372\u001b[0m base \u001b[38;5;241m=\u001b[39m \u001b[38;5;124m'\u001b[39m\u001b[38;5;124m'\u001b[39m \u001b[38;5;28;01mif\u001b[39;00m path\u001b[38;5;241m.\u001b[39mis_absolute() \u001b[38;5;28;01melse\u001b[39;00m os\u001b[38;5;241m.\u001b[39mgetcwd()\n\u001b[0;32m--> 373\u001b[0m \u001b[38;5;28;01mreturn\u001b[39;00m \u001b[43m_resolve\u001b[49m\u001b[43m(\u001b[49m\u001b[43mbase\u001b[49m\u001b[43m,\u001b[49m\u001b[43m \u001b[49m\u001b[38;5;28;43mstr\u001b[39;49m\u001b[43m(\u001b[49m\u001b[43mpath\u001b[49m\u001b[43m)\u001b[49m\u001b[43m)\u001b[49m \u001b[38;5;129;01mor\u001b[39;00m sep\n",
      "File \u001b[0;32m~/.pyenv/versions/3.9.7/lib/python3.9/pathlib.py:346\u001b[0m, in \u001b[0;36m_PosixFlavour.resolve.<locals>._resolve\u001b[0;34m(path, rest)\u001b[0m\n\u001b[1;32m    344\u001b[0m     newpath \u001b[38;5;241m=\u001b[39m path \u001b[38;5;241m+\u001b[39m name\n\u001b[1;32m    345\u001b[0m \u001b[38;5;28;01melse\u001b[39;00m:\n\u001b[0;32m--> 346\u001b[0m     newpath \u001b[38;5;241m=\u001b[39m \u001b[43mpath\u001b[49m\u001b[43m \u001b[49m\u001b[38;5;241;43m+\u001b[39;49m\u001b[43m \u001b[49m\u001b[43msep\u001b[49m \u001b[38;5;241m+\u001b[39m name\n\u001b[1;32m    347\u001b[0m \u001b[38;5;28;01mif\u001b[39;00m newpath \u001b[38;5;129;01min\u001b[39;00m seen:\n\u001b[1;32m    348\u001b[0m     \u001b[38;5;66;03m# Already seen this path\u001b[39;00m\n\u001b[1;32m    349\u001b[0m     path \u001b[38;5;241m=\u001b[39m seen[newpath]\n",
      "\u001b[0;31mKeyboardInterrupt\u001b[0m: "
     ]
    }
   ],
   "source": [
    "!rm -rf ./runs\n",
    "\n",
    "# default `log_dir` is \"runs\".\n",
    "writer = SummaryWriter('./runs')\n",
    "\n",
    "for epoch in range(epoch_nums):\n",
    "    print(f\"{epoch=}:\")\n",
    "\n",
    "    net.train()\n",
    "    loss_history = []\n",
    "    for X, y, _ in train_dataloader:\n",
    "        optimizer.zero_grad()\n",
    "        y_pred = net(X)\n",
    "        loss_value = loss(y_pred, y)\n",
    "        loss_value.backward()\n",
    "        optimizer.step()\n",
    "        cur_train_loss = loss_value.cpu().data.item()\n",
    "        loss_history.append(cur_train_loss)\n",
    "        print(\"train_loss: %.4f\" % cur_train_loss, end='\\r')\n",
    "\n",
    "    train_loss = np.mean(loss_history)\n",
    "    print(\"train_loss:\\t%.5f\" % train_loss)\n",
    "\n",
    "    net.eval()\n",
    "    loss_history = []\n",
    "    with torch.no_grad():\n",
    "        for X, y, shape in val_dataloader:\n",
    "            shape = shape.numpy()\n",
    "            y_pred = net(X)\n",
    "            loss_value = loss(y_pred, y) \n",
    "            loss_history.append(loss_value.cpu().data.item())\n",
    "\n",
    "    val_loss = np.mean(loss_history)\n",
    "    print(\"val_loss:\\t%.5f\" % val_loss)\n",
    "    print(\"val_quality:\\t%.5f\" % (val_loss * 100**2))\n",
    "    \n",
    "    writer.add_scalars(\n",
    "        'Loss', \n",
    "        {\n",
    "            'train': train_loss,\n",
    "            'val': val_loss,\n",
    "        },\n",
    "        epoch\n",
    "    )\n",
    "    \n",
    "    if val_loss < best_val_loss:\n",
    "        best_val_loss = val_loss\n",
    "        torch.save(\n",
    "            {\n",
    "                'model_state_dict': net.state_dict(),\n",
    "                'optimizer_state_dict': optimizer.state_dict()\n",
    "            },\n",
    "            pathlib.Path(\"./facepoints_model.ckpt\")\n",
    "        )\n",
    "        print(\"*\")\n",
    "    print()\n",
    "\n",
    "writer.close()"
   ]
  },
  {
   "cell_type": "code",
   "execution_count": 62,
   "id": "d5f3a51d",
   "metadata": {},
   "outputs": [
    {
     "name": "stdout",
     "output_type": "stream",
     "text": [
      "The tensorboard extension is already loaded. To reload it, use:\n",
      "  %reload_ext tensorboard\n"
     ]
    }
   ],
   "source": [
    "%load_ext tensorboard"
   ]
  },
  {
   "cell_type": "code",
   "execution_count": 63,
   "id": "7cb14717",
   "metadata": {},
   "outputs": [
    {
     "data": {
      "text/html": [
       "\n",
       "      <iframe id=\"tensorboard-frame-df03615674171474\" width=\"100%\" height=\"800\" frameborder=\"0\">\n",
       "      </iframe>\n",
       "      <script>\n",
       "        (function() {\n",
       "          const frame = document.getElementById(\"tensorboard-frame-df03615674171474\");\n",
       "          const url = new URL(\"/\", window.location);\n",
       "          const port = 6006;\n",
       "          if (port) {\n",
       "            url.port = port;\n",
       "          }\n",
       "          frame.src = url;\n",
       "        })();\n",
       "      </script>\n",
       "    "
      ],
      "text/plain": [
       "<IPython.core.display.HTML object>"
      ]
     },
     "metadata": {},
     "output_type": "display_data"
    }
   ],
   "source": [
    "%tensorboard --logdir runs"
   ]
  },
  {
   "cell_type": "code",
   "execution_count": 64,
   "id": "acdfa43f",
   "metadata": {},
   "outputs": [],
   "source": [
    "net = NeuralNetwork(net_arch)\n",
    "optimizer = getattr(torch.optim, optimizer_params[\"optimizer_type\"])(\n",
    "    net.parameters(),\n",
    "    **optimizer_params[\"params\"]\n",
    ")\n",
    "\n",
    "checkpoint = torch.load(\"./facepoints_model.ckpt\")\n",
    "net.load_state_dict(checkpoint['model_state_dict'])\n",
    "optimizer.load_state_dict(checkpoint['optimizer_state_dict'])"
   ]
  },
  {
   "cell_type": "code",
   "execution_count": 65,
   "id": "bb218cfc",
   "metadata": {},
   "outputs": [],
   "source": [
    "test_gt = {path.name: np.array([]) for path in test_img_dir.iterdir()}"
   ]
  },
  {
   "cell_type": "code",
   "execution_count": 66,
   "id": "fc51c8f1",
   "metadata": {},
   "outputs": [],
   "source": [
    "dataset_params = learning_process[\"dataset_params\"]\n",
    "\n",
    "test_dataset = ImagePointsDataset(\n",
    "    mode=\"test\",\n",
    "    train_fraction=0.0,\n",
    "    data_dir=test_img_dir,\n",
    "    train_gt=test_gt,\n",
    "    new_size=dataset_params[\"new_size\"]\n",
    ")\n",
    "\n",
    "test_dataloader = DataLoader(\n",
    "    dataset=test_dataset,\n",
    "    batch_size = dataset_params[\"val_batch_size\"],\n",
    "    shuffle=False\n",
    ")"
   ]
  },
  {
   "cell_type": "code",
   "execution_count": 67,
   "id": "d874486f",
   "metadata": {},
   "outputs": [
    {
     "name": "stdout",
     "output_type": "stream",
     "text": [
      "iter=0/59\r"
     ]
    }
   ],
   "source": [
    "y_pred_history = []\n",
    "for i, (X, y, _) in enumerate(test_dataloader):\n",
    "    print(f\"iter={i}/{len(test_dataloader) - 1}\", end='\\r')\n",
    "    y_pred = net(X)\n",
    "    y_pred_reshaped = convert_targets_shape(\n",
    "        y_pred.cpu().data.numpy(),\n",
    "        test_dataset.shape\n",
    "    )\n",
    "    y_pred_history.extend(y_pred_reshaped.tolist())\n",
    "    break"
   ]
  },
  {
   "cell_type": "code",
   "execution_count": 68,
   "id": "bfff6add",
   "metadata": {},
   "outputs": [
    {
     "name": "stdout",
     "output_type": "stream",
     "text": [
      "1 [1, 2, 3]\n",
      "2 [11, 22, 33]\n",
      "3 [0, 0, 0]\n"
     ]
    }
   ],
   "source": [
    "paths = [\"1\", \"2\", \"3\"]\n",
    "vals = [[1,2,3], [11,22,33], [0,0,0]]\n",
    "\n",
    "for a, b in zip(paths, vals):\n",
    "    print(a, b)"
   ]
  },
  {
   "cell_type": "code",
   "execution_count": 48,
   "id": "20ea7c01",
   "metadata": {},
   "outputs": [
    {
     "data": {
      "text/plain": [
       "<matplotlib.collections.PathCollection at 0x7f6bc4c9cf40>"
      ]
     },
     "execution_count": 48,
     "metadata": {},
     "output_type": "execute_result"
    },
    {
     "data": {
      "image/png": "[encoded data removed]",
      "text/plain": [
       "<Figure size 640x480 with 1 Axes>"
      ]
     },
     "metadata": {},
     "output_type": "display_data"
    }
   ],
   "source": [
    "i += 1\n",
    "\n",
    "plt.imshow(test_dataset[i][0].numpy().transpose(1, 2, 0));\n",
    "plt.scatter(y_pred_history[i][::2], y_pred_history[i][1::2])"
   ]
  },
  {
   "cell_type": "code",
   "execution_count": 65,
   "id": "fb5fddfb",
   "metadata": {},
   "outputs": [],
   "source": [
    "d = []\n",
    "d.extend(y_pred.cpu().data.tolist())\n",
    "d.extend(y_pred.cpu().data.tolist())"
   ]
  },
  {
   "cell_type": "code",
   "execution_count": null,
   "id": "446d0d21",
   "metadata": {},
   "outputs": [],
   "source": []
  },
  {
   "cell_type": "code",
   "execution_count": 408,
   "id": "365340ec",
   "metadata": {},
   "outputs": [
    {
     "data": {
      "text/plain": [
       "(tensor([[0.2690, 0.2840, 0.4220, 0.2754, 0.5755, 0.2979, 0.7259, 0.3105, 0.3061,\n",
       "          0.3598, 0.3619, 0.3624, 0.4086, 0.3520, 0.5807, 0.3439, 0.6322, 0.3450,\n",
       "          0.7278, 0.3623, 0.4857, 0.5165, 0.3973, 0.6255, 0.4922, 0.6351, 0.6273,\n",
       "          0.6611]], grad_fn=<SigmoidBackward0>),\n",
       " tensor([0.2222, 0.2407, 0.4074, 0.2407, 0.5926, 0.2222, 0.7222, 0.2037, 0.2593,\n",
       "         0.2963, 0.2963, 0.2963, 0.3519, 0.2963, 0.6667, 0.2963, 0.7222, 0.2963,\n",
       "         0.7593, 0.2963, 0.5556, 0.5556, 0.3148, 0.6667, 0.5000, 0.6852, 0.6481,\n",
       "         0.6481]))"
      ]
     },
     "execution_count": 408,
     "metadata": {},
     "output_type": "execute_result"
    }
   ],
   "source": [
    "net(val_dataset[0][0].unsqueeze(0)),\\\n",
    "val_dataset[0][1]"
   ]
  },
  {
   "cell_type": "code",
   "execution_count": null,
   "id": "10d93f90",
   "metadata": {},
   "outputs": [],
   "source": []
  },
  {
   "cell_type": "code",
   "execution_count": 606,
   "id": "04b8ffe7",
   "metadata": {},
   "outputs": [],
   "source": [
    "def train_detector(\n",
    "        train_gt: tp.Dict[str, np.ndarray],\n",
    "        train_img_dir: pathlib.PosixPath,\n",
    "        fast_train: bool\n",
    ") -> NeuralNetwork:\n",
    "    \n",
    "    # Create train and val Dataloaders.\n",
    "    train_fraction = 0.9\n",
    "\n",
    "    train_dataset = ImagePointsDataset(\n",
    "        mode=\"train\",\n",
    "        train_fraction=train_fraction,\n",
    "        data_dir=train_img_dir,\n",
    "        train_gt=train_gt,\n",
    "        new_size=(64, 64)\n",
    "    )\n",
    "\n",
    "    val_dataset = ImagePointsDataset(\n",
    "        mode=\"val\",\n",
    "        train_fraction=train_fraction,\n",
    "        data_dir=train_img_dir,\n",
    "        train_gt=train_gt,\n",
    "        new_size=(64, 64)\n",
    "    )\n",
    "\n",
    "    train_dataloader = DataLoader(\n",
    "        dataset=train_dataset,\n",
    "        batch_size = 100,\n",
    "        shuffle=True\n",
    "    )\n",
    "\n",
    "    val_dataloader = DataLoader(\n",
    "        dataset=val_dataset,\n",
    "        batch_size = 100,\n",
    "        shuffle=True\n",
    "    )\n",
    "\n",
    "    # Init blank model and optimizer.\n",
    "    net = NeuralNetwork()\n",
    "    loss = torch.nn.MSELoss()\n",
    "    optimizer = torch.optim.SGD(net.parameters(), lr=0.5)\n",
    "    optimizer.zero_grad()\n",
    "\n",
    "    epoch_nums = 1 if fast_train else 30\n",
    "    best_val_loss = float(\"inf\")\n",
    "    \n",
    "    # Process of training and validation.\n",
    "    for epoch in range(epoch_nums):\n",
    "        if not fast_train:\n",
    "            print(f\"{epoch=}:\")\n",
    "\n",
    "        loss_history = []\n",
    "        for i, (X, y, _) in enumerate(train_dataloader):\n",
    "            if fast_train and i > 20:\n",
    "                break\n",
    "            optimizer.zero_grad()\n",
    "            y_pred = net(X)\n",
    "            loss_value = loss(y_pred, y)\n",
    "            loss_value.backward()\n",
    "            optimizer.step()\n",
    "            loss_history.append(loss_value.cpu().data.item())\n",
    "            if not fast_train:\n",
    "                print(\"train_loss: %.4f\" % loss_value.cpu().data.item(), end='\\r')\n",
    "\n",
    "        train_loss = np.mean(loss_history)\n",
    "        if not fast_train:\n",
    "            print(\"train_loss:\\t%.5f\" % train_loss)\n",
    "\n",
    "        loss_history = []\n",
    "        for X, y, shape in val_dataloader:\n",
    "            shape = shape.numpy()\n",
    "            y_pred = net(X)\n",
    "            loss_value = loss(y_pred, y) \n",
    "            loss_history.append(loss_value.cpu().data.item())\n",
    "            if fast_train:\n",
    "                break\n",
    "        val_loss = np.mean(loss_history)\n",
    "        if not fast_train:\n",
    "            print(\"val_loss:\\t%.5f\" % val_loss)\n",
    "            print(\"val_quality:\\t%.5f\" % (val_loss * 100**2))\n",
    "\n",
    "        if not fast_train and val_loss < best_val_loss:\n",
    "            best_val_loss = val_loss\n",
    "            torch.save(\n",
    "                {\n",
    "                    'model_state_dict': net.state_dict()\n",
    "                },\n",
    "                pathlib.Path(\"./facepoints_model.ckpt\")\n",
    "            )\n",
    "            print(\"*\")\n",
    "\n",
    "        if not fast_train:\n",
    "            print()\n",
    "            \n",
    "    # Load best one model.\n",
    "    if not fast_train:\n",
    "        net = NeuralNetwork()\n",
    "        checkpoint = torch.load(\"./facepoints_model.ckpt\")\n",
    "        net.load_state_dict(checkpoint['model_state_dict'])       \n",
    "            \n",
    "    return net"
   ]
  },
  {
   "cell_type": "code",
   "execution_count": null,
   "id": "18af66c5",
   "metadata": {},
   "outputs": [],
   "source": [
    "# detected_points = detect(model_filename, test_img_dir)\n",
    "def detect(\n",
    "        model_filename: str,\n",
    "        test_img_dir: pathlib.PosixPath\n",
    ") -> np.ndarray:\n",
    "    net = NeuralNetwork()\n",
    "    checkpoint = torch.load(model_filename)\n",
    "    net.load_state_dict(checkpoint['model_state_dict'])\n",
    "\n",
    "    train_dataset = ImagePointsDataset(\n",
    "        mode=\"val\",\n",
    "        train_fraction=0.0,\n",
    "        data_dir=test_img_dir,\n",
    "        train_gt=None,\n",
    "        new_size=(64, 64)\n",
    "    )\n",
    "    \n",
    "    train_dataloader = DataLoader(\n",
    "        dataset=train_dataset,\n",
    "        batch_size = 100,\n",
    "        shuffle=True\n",
    "    )    \n",
    "    "
   ]
  },
  {
   "cell_type": "code",
   "execution_count": null,
   "id": "69fb9d47",
   "metadata": {},
   "outputs": [],
   "source": []
  }
 ],
 "metadata": {
  "kernelspec": {
   "display_name": "Python 3 (ipykernel)",
   "language": "python",
   "name": "python3"
  },
  "language_info": {
   "codemirror_mode": {
    "name": "ipython",
    "version": 3
   },
   "file_extension": ".py",
   "mimetype": "text/x-python",
   "name": "python",
   "nbconvert_exporter": "python",
   "pygments_lexer": "ipython3",
   "version": "3.9.7"
  }
 },
 "nbformat": 4,
 "nbformat_minor": 5
}
