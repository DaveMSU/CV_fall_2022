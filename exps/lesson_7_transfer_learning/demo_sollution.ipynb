{
 "cells": [
  {
   "cell_type": "code",
   "execution_count": 1,
   "id": "50d9f3d2",
   "metadata": {},
   "outputs": [],
   "source": [
    "def read_csv(filename):\n",
    "    res = {}\n",
    "    with open(filename) as fhandle:\n",
    "        next(fhandle)\n",
    "        for line in fhandle:\n",
    "            filename, class_id = line.rstrip('\\n').split(',')\n",
    "            res[filename] = int(class_id)\n",
    "    return res"
   ]
  },
  {
   "cell_type": "code",
   "execution_count": 31,
   "id": "b36e1bc4",
   "metadata": {},
   "outputs": [
    {
     "data": {
      "text/plain": [
       "{'micro': 0.75,\n",
       " 'macro': 0.7333333333333334,\n",
       " 'weighted': 0.7666666666666667,\n",
       " None: array([0.66666667, 0.8       ])}"
      ]
     },
     "execution_count": 31,
     "metadata": {},
     "output_type": "execute_result"
    }
   ],
   "source": [
    "import sklearn.metrics\n",
    "\n",
    "y =      np.array([0, 1, 1, 1])\n",
    "y_pred = np.array([0, 0, 1, 1])\n",
    "\n",
    "{avr: sklearn.metrics.f1_score(y, y_pred, average=avr) for avr in [\"micro\", \"macro\", \"weighted\", None]}"
   ]
  },
  {
   "cell_type": "code",
   "execution_count": 22,
   "id": "5f069d08",
   "metadata": {},
   "outputs": [
    {
     "data": {
      "text/plain": [
       "0.8"
      ]
     },
     "execution_count": 22,
     "metadata": {},
     "output_type": "execute_result"
    }
   ],
   "source": [
    "tp = 2\n",
    "tn = 1\n",
    "fp = 0\n",
    "fn = 1\n",
    "\n",
    "pr = tp / (tp + fp)\n",
    "rc = tp / (tp + fn)\n",
    "\n",
    "f1_macro = 2 * pr * rc / (pr + rc)\n",
    "\n",
    "f1_macro"
   ]
  },
  {
   "cell_type": "code",
   "execution_count": 33,
   "id": "a29821a6",
   "metadata": {},
   "outputs": [
    {
     "data": {
      "text/plain": [
       "0.7333333333333334"
      ]
     },
     "execution_count": 33,
     "metadata": {},
     "output_type": "execute_result"
    }
   ],
   "source": [
    "f10, f11 = sklearn.metrics.f1_score(y, y_pred, average=None)\n",
    "f10*0.5 + f11*0.5"
   ]
  },
  {
   "cell_type": "code",
   "execution_count": 29,
   "id": "ddaae904",
   "metadata": {},
   "outputs": [
    {
     "data": {
      "text/plain": [
       "(0.8, 0.8)"
      ]
     },
     "execution_count": 29,
     "metadata": {},
     "output_type": "execute_result"
    }
   ],
   "source": [
    "sklearn.metrics.f1_score(y, y_pred), f1_macro"
   ]
  },
  {
   "cell_type": "code",
   "execution_count": 4,
   "id": "5ea469a2",
   "metadata": {},
   "outputs": [
    {
     "ename": "ModuleNotFoundError",
     "evalue": "No module named 'base_dataset'",
     "output_type": "error",
     "traceback": [
      "\u001b[0;31m---------------------------------------------------------------------------\u001b[0m",
      "\u001b[0;31mModuleNotFoundError\u001b[0m                       Traceback (most recent call last)",
      "\u001b[0;32m/tmp/ipykernel_2189747/792865194.py\u001b[0m in \u001b[0;36m<module>\u001b[0;34m\u001b[0m\n\u001b[1;32m     15\u001b[0m \u001b[0;32mfrom\u001b[0m \u001b[0mtorchvision\u001b[0m \u001b[0;32mimport\u001b[0m \u001b[0mmodels\u001b[0m\u001b[0;34m\u001b[0m\u001b[0;34m\u001b[0m\u001b[0m\n\u001b[1;32m     16\u001b[0m \u001b[0;34m\u001b[0m\u001b[0m\n\u001b[0;32m---> 17\u001b[0;31m \u001b[0;32mfrom\u001b[0m \u001b[0mdataset\u001b[0m \u001b[0;32mimport\u001b[0m \u001b[0mImageClassifyDataset\u001b[0m\u001b[0;34m\u001b[0m\u001b[0;34m\u001b[0m\u001b[0m\n\u001b[0m\u001b[1;32m     18\u001b[0m \u001b[0;32mfrom\u001b[0m \u001b[0mnetwork\u001b[0m \u001b[0;32mimport\u001b[0m \u001b[0mBirdNet\u001b[0m\u001b[0;34m\u001b[0m\u001b[0;34m\u001b[0m\u001b[0m\n\u001b[1;32m     19\u001b[0m \u001b[0;34m\u001b[0m\u001b[0m\n",
      "\u001b[0;32m~/my_github/cv_fall_2022/.lesson_7_transfer_learning/dataset.py\u001b[0m in \u001b[0;36m<module>\u001b[0;34m\u001b[0m\n\u001b[1;32m      9\u001b[0m \u001b[0;32mfrom\u001b[0m \u001b[0mmatplotlib\u001b[0m \u001b[0;32mimport\u001b[0m \u001b[0mpyplot\u001b[0m \u001b[0;32mas\u001b[0m \u001b[0mplt\u001b[0m\u001b[0;34m\u001b[0m\u001b[0;34m\u001b[0m\u001b[0m\n\u001b[1;32m     10\u001b[0m \u001b[0;34m\u001b[0m\u001b[0m\n\u001b[0;32m---> 11\u001b[0;31m \u001b[0;32mfrom\u001b[0m \u001b[0mbase_dataset\u001b[0m \u001b[0;32mimport\u001b[0m \u001b[0mBaseImageDataset\u001b[0m\u001b[0;34m\u001b[0m\u001b[0;34m\u001b[0m\u001b[0m\n\u001b[0m\u001b[1;32m     12\u001b[0m \u001b[0;34m\u001b[0m\u001b[0m\n\u001b[1;32m     13\u001b[0m \u001b[0;34m\u001b[0m\u001b[0m\n",
      "\u001b[0;31mModuleNotFoundError\u001b[0m: No module named 'base_dataset'"
     ]
    }
   ],
   "source": [
    "import sys; sys.path.append('../')\n",
    "\n",
    "import json\n",
    "import pathlib\n",
    "import typing as tp\n",
    "\n",
    "import cv2\n",
    "import torch\n",
    "import pandas as pd\n",
    "import numpy as np\n",
    "from PIL import Image\n",
    "from matplotlib import pyplot as plt\n",
    "from torch.utils.data import DataLoader\n",
    "from torch.utils.tensorboard import SummaryWriter\n",
    "from torchvision import models\n",
    "\n",
    "from dataset import ImageClassifyDataset\n",
    "from network import BirdNet\n",
    "\n",
    "\n",
    "CLASSES_NUM = 50\n",
    "\n",
    "\n",
    "data_dir = pathlib.Path(\"./data/00_test_img_input\")\n",
    "output_dir = \"\"\n",
    "\n",
    "train_dir = data_dir/'train'\n",
    "test_dir = data_dir/'test'\n",
    "\n",
    "train_gt: tp.Dict[str, np.ndarray] = read_csv(train_dir/'gt.csv')\n",
    "train_img_dir = train_dir/'images'\n",
    "\n",
    "test_img_dir = test_dir/'images'\n",
    "\n",
    "# model = train_classifier(train_gt, train_img_dir, fast_train=False)\n",
    "\n",
    "# model_filename = './facepoints_model.ckpt'\n",
    "# test_img_dir = test_dir/'images'\n",
    "# img_classes = classify(model_filename, test_img_dir)\n",
    "# # save_csv(detected_points, join(output_dir, 'output.csv'))"
   ]
  },
  {
   "cell_type": "code",
   "execution_count": 3,
   "id": "33abcf46",
   "metadata": {},
   "outputs": [
    {
     "data": {
      "text/plain": [
       "2330"
      ]
     },
     "execution_count": 3,
     "metadata": {},
     "output_type": "execute_result"
    }
   ],
   "source": [
    "ds = ImageClassifyDataset(CLASSES_NUM, \"train\", 0.932, train_img_dir, train_gt, new_size=(0, 0))\n",
    "len(ds)"
   ]
  },
  {
   "cell_type": "code",
   "execution_count": 4,
   "id": "c3f7d8ce",
   "metadata": {},
   "outputs": [
    {
     "data": {
      "text/plain": [
       "tensor([0., 0., 0., 0., 0., 0., 0., 0., 0., 0., 0., 0., 0., 0., 0., 0., 0., 0.,\n",
       "        0., 0., 0., 0., 0., 0., 0., 0., 0., 0., 0., 0., 0., 0., 0., 0., 0., 0.,\n",
       "        0., 0., 0., 0., 0., 0., 0., 0., 1., 0., 0., 0., 0., 0.])"
      ]
     },
     "execution_count": 4,
     "metadata": {},
     "output_type": "execute_result"
    },
    {
     "data": {
      "image/png": "[encoded data removed]",
      "text/plain": [
       "<Figure size 432x288 with 1 Axes>"
      ]
     },
     "metadata": {
      "needs_background": "light"
     },
     "output_type": "display_data"
    }
   ],
   "source": [
    "i = 1\n",
    "plt.imshow(ds[i][0].numpy().transpose(1, 2, 0));\n",
    "ds[i][1]"
   ]
  },
  {
   "cell_type": "code",
   "execution_count": null,
   "id": "302bce05",
   "metadata": {},
   "outputs": [],
   "source": []
  },
  {
   "cell_type": "code",
   "execution_count": 5,
   "id": "f534711a",
   "metadata": {},
   "outputs": [],
   "source": [
    "with open('./configs/learning_process/base.json') as f:\n",
    "    learning_process = json.load(f)"
   ]
  },
  {
   "cell_type": "code",
   "execution_count": 6,
   "id": "51744ed9",
   "metadata": {},
   "outputs": [],
   "source": [
    "dataset_params = learning_process[\"dataset_params\"]\n",
    "train_fraction = dataset_params[\"train_fraction\"]\n",
    "if dataset_params[\"augmentation\"] is None:\n",
    "    transforms = None\n",
    "else:\n",
    "    transforms = [\n",
    "        globals()[dict_[\"transform_type\"]](**dict_[\"params\"])\n",
    "            for dict_ in dataset_params[\"augmentation\"]\n",
    "    ]\n",
    "\n",
    "train_dataset = ImageClassifyDataset(\n",
    "    classes_num=CLASSES_NUM,\n",
    "    mode=\"train\",\n",
    "    train_fraction=train_fraction,\n",
    "    data_dir=train_img_dir,\n",
    "    train_gt=train_gt,\n",
    "    new_size=dataset_params[\"new_size\"],\n",
    "    transforms=transforms\n",
    ")\n",
    "\n",
    "val_dataset = ImageClassifyDataset(\n",
    "    classes_num=CLASSES_NUM,\n",
    "    mode=\"val\",\n",
    "    train_fraction=train_fraction,\n",
    "    data_dir=train_img_dir,\n",
    "    train_gt=train_gt,\n",
    "    new_size=dataset_params[\"new_size\"]\n",
    ")\n",
    "\n",
    "train_dataloader = DataLoader(\n",
    "    dataset=train_dataset,\n",
    "    batch_size = dataset_params[\"train_batch_size\"],\n",
    "    shuffle=True\n",
    ")\n",
    "\n",
    "val_dataloader = DataLoader(\n",
    "    dataset=val_dataset,\n",
    "    batch_size = dataset_params[\"val_batch_size\"],\n",
    "    shuffle=True\n",
    ")"
   ]
  },
  {
   "cell_type": "code",
   "execution_count": 7,
   "id": "2618df15",
   "metadata": {},
   "outputs": [],
   "source": [
    "def create_time_decay(init_lr, intensity):\n",
    "    def time_decay(epoch):\n",
    "        lr = init_lr / (1 + intensity * epoch)\n",
    "        return lr\n",
    "    return time_decay"
   ]
  },
  {
   "cell_type": "code",
   "execution_count": 8,
   "id": "bc07a3a0",
   "metadata": {},
   "outputs": [],
   "source": [
    "loss_params = learning_process[\"hyper_params\"][\"loss\"]\n",
    "optimizer_params = learning_process[\"hyper_params\"][\"optimizer\"]\n",
    "epoch_nums = learning_process[\"hyper_params\"][\"epoch_nums\"]\n",
    "\n",
    "net = BirdNet(\n",
    "    base_net = models.resnet18(pretrained=True),\n",
    "    first_layers_number_to_be_frozen = 9\n",
    ")\n",
    "loss = getattr(torch.nn, loss_params[\"loss_type\"])(**loss_params[\"params\"])\n",
    "optimizer = getattr(torch.optim, optimizer_params[\"optimizer_type\"])(\n",
    "    net.parameters(),\n",
    "    **optimizer_params[\"params\"]\n",
    ")\n",
    "# scheduler = torch.optim.lr_scheduler.LambdaLR(\n",
    "#     optimizer, \n",
    "#     create_time_decay(\n",
    "#         init_lr=optimizer_params[\"params\"][\"lr\"],\n",
    "#         intensity=0.0\n",
    "#     ),\n",
    "#     verbose=True\n",
    "# )\n",
    "\n",
    "best_val_loss = float(\"inf\")"
   ]
  },
  {
   "cell_type": "code",
   "execution_count": null,
   "id": "13c15808",
   "metadata": {},
   "outputs": [],
   "source": []
  },
  {
   "cell_type": "code",
   "execution_count": null,
   "id": "685c6b76",
   "metadata": {},
   "outputs": [
    {
     "name": "stdout",
     "output_type": "stream",
     "text": [
      "epoch=0:\n",
      "train_loss:\t3.95041\n",
      "val_loss:\t3.79251\n",
      "val_accuray:\t0.05200\n",
      "*\n",
      "\n",
      "epoch=1:\n",
      "train_loss:\t3.71694\n",
      "val_loss:\t3.61920\n",
      "val_accuray:\t0.08800\n",
      "*\n",
      "\n",
      "epoch=2:\n",
      "train_loss:\t3.54179\n",
      "val_loss:\t3.49542\n",
      "val_accuray:\t0.16400\n",
      "*\n",
      "\n",
      "epoch=3:\n",
      "train_loss:\t3.37275\n",
      "val_loss:\t3.36163\n",
      "val_accuray:\t0.18000\n",
      "*\n",
      "\n",
      "epoch=4:\n",
      "train_loss:\t3.22249\n",
      "val_loss:\t3.19576\n",
      "val_accuray:\t0.24400\n",
      "*\n",
      "\n",
      "epoch=5:\n",
      "train_loss:\t3.07425\n",
      "val_loss:\t3.08888\n",
      "val_accuray:\t0.29600\n",
      "*\n",
      "\n",
      "epoch=6:\n",
      "train_loss:\t2.94428\n",
      "val_loss:\t2.93961\n",
      "val_accuray:\t0.36400\n",
      "*\n",
      "\n",
      "epoch=7:\n",
      "train_loss:\t2.81722\n",
      "val_loss:\t2.82148\n",
      "val_accuray:\t0.39600\n",
      "*\n",
      "\n",
      "epoch=8:\n",
      "train_loss:\t2.70684\n",
      "val_loss:\t2.75178\n",
      "val_accuray:\t0.45200\n",
      "*\n",
      "\n",
      "epoch=9:\n",
      "train_loss:\t2.59665\n",
      "val_loss:\t2.64024\n",
      "val_accuray:\t0.47200\n",
      "*\n",
      "\n",
      "epoch=10:\n",
      "train_loss:\t2.49676\n",
      "val_loss:\t2.56469\n",
      "val_accuray:\t0.52400\n",
      "*\n",
      "\n",
      "epoch=11:\n",
      "train_loss:\t2.40014\n",
      "val_loss:\t2.47573\n",
      "val_accuray:\t0.52400\n",
      "*\n",
      "\n",
      "epoch=12:\n",
      "train_loss:\t2.31683\n",
      "val_loss:\t2.39050\n",
      "val_accuray:\t0.53200\n",
      "*\n",
      "\n",
      "epoch=13:\n",
      "train_loss:\t2.23217\n",
      "val_loss:\t2.31857\n",
      "val_accuray:\t0.54400\n",
      "*\n",
      "\n",
      "epoch=14:\n",
      "train_loss:\t2.16424\n",
      "val_loss:\t2.27547\n",
      "val_accuray:\t0.55200\n",
      "*\n",
      "\n",
      "epoch=15:\n",
      "train_loss:\t2.08840\n",
      "val_loss:\t2.21542\n",
      "val_accuray:\t0.57200\n",
      "*\n",
      "\n",
      "epoch=16:\n",
      "train_loss:\t2.02443\n",
      "val_loss:\t2.15782\n",
      "val_accuray:\t0.58400\n",
      "*\n",
      "\n",
      "epoch=17:\n",
      "train_loss:\t1.96283\n",
      "val_loss:\t2.09151\n",
      "val_accuray:\t0.60800\n",
      "*\n",
      "\n",
      "epoch=18:\n",
      "train_loss:\t1.90123\n",
      "val_loss:\t2.01899\n",
      "val_accuray:\t0.62000\n",
      "*\n",
      "\n",
      "epoch=19:\n",
      "train_loss:\t1.85509\n",
      "val_loss:\t1.96712\n",
      "val_accuray:\t0.62400\n",
      "*\n",
      "\n",
      "epoch=20:\n",
      "train_loss:\t1.79739\n",
      "val_loss:\t1.92386\n",
      "val_accuray:\t0.63200\n",
      "*\n",
      "\n",
      "epoch=21:\n",
      "train_loss:\t1.75275\n",
      "val_loss:\t1.89552\n",
      "val_accuray:\t0.63200\n",
      "*\n",
      "\n",
      "epoch=22:\n",
      "train_loss:\t1.70903\n"
     ]
    }
   ],
   "source": [
    "!rm -rf ./runs\n",
    "\n",
    "# default `log_dir` is \"runs\".\n",
    "writer = SummaryWriter('./runs')\n",
    "\n",
    "for epoch in range(epoch_nums - 1):\n",
    "    print(f\"{epoch=}:\")\n",
    "\n",
    "    net.train()\n",
    "    loss_history = []\n",
    "    for X, y, _ in train_dataloader:\n",
    "        optimizer.zero_grad()\n",
    "        y_pred = net(X)\n",
    "        loss_value = loss(y_pred, y)\n",
    "        loss_value.backward()\n",
    "        optimizer.step()\n",
    "        cur_train_loss = loss_value.cpu().data.item()\n",
    "        loss_history.append(cur_train_loss)\n",
    "        print(\"train_loss: %.4f\" % cur_train_loss, end='\\r')\n",
    "\n",
    "    train_loss = np.mean(loss_history)\n",
    "    print(\"train_loss:\\t%.5f\" % train_loss)\n",
    "    \n",
    "#     scheduler.step()\n",
    "\n",
    "    net.eval()\n",
    "    loss_history = []\n",
    "    eq_history = []\n",
    "    with torch.no_grad():\n",
    "        for X, y, shape in val_dataloader:\n",
    "            shape = shape.numpy()\n",
    "            y_pred = net(X)\n",
    "            eq_history.extend(\n",
    "                list(y_pred.cpu().data.numpy().argmax(axis=1) == y.data.cpu().numpy().argmax(axis=1))\n",
    "            )\n",
    "            loss_value = loss(y_pred, y)\n",
    "            loss_history.append(loss_value.cpu().data.item())\n",
    "\n",
    "    val_loss = np.mean(loss_history)\n",
    "    print(\"val_loss:\\t%.5f\" % val_loss)\n",
    "    print(\"val_accuray:\\t%.5f\" % np.mean(eq_history))\n",
    "    \n",
    "    writer.add_scalars(\n",
    "        'Loss',\n",
    "        {\n",
    "            'train': train_loss,\n",
    "            'val': val_loss\n",
    "        },\n",
    "        epoch\n",
    "    )\n",
    "        \n",
    "    writer.add_scalars(\n",
    "        'Accuracy',\n",
    "        {\n",
    "            'val': np.mean(eq_history)\n",
    "        },\n",
    "        epoch\n",
    "    )\n",
    "\n",
    "    if val_loss < best_val_loss:\n",
    "        best_val_loss = val_loss\n",
    "        torch.save(\n",
    "            {\n",
    "                'model_state_dict': net.state_dict(),\n",
    "                'optimizer_state_dict': optimizer.state_dict()\n",
    "            },\n",
    "            pathlib.Path(\"./birds_model.ckpt\")\n",
    "        )\n",
    "        print(\"*\")\n",
    "    print()\n",
    "\n",
    "writer.close()"
   ]
  },
  {
   "cell_type": "code",
   "execution_count": null,
   "id": "42a984dc",
   "metadata": {},
   "outputs": [],
   "source": []
  },
  {
   "cell_type": "code",
   "execution_count": null,
   "id": "10a40150",
   "metadata": {},
   "outputs": [],
   "source": []
  },
  {
   "cell_type": "code",
   "execution_count": null,
   "id": "85a012e0",
   "metadata": {},
   "outputs": [],
   "source": []
  }
 ],
 "metadata": {
  "kernelspec": {
   "display_name": "Python 3 (ipykernel)",
   "language": "python",
   "name": "python3"
  },
  "language_info": {
   "codemirror_mode": {
    "name": "ipython",
    "version": 3
   },
   "file_extension": ".py",
   "mimetype": "text/x-python",
   "name": "python",
   "nbconvert_exporter": "python",
   "pygments_lexer": "ipython3",
   "version": "3.11.10"
  },
  "widgets": {
   "application/vnd.jupyter.widget-state+json": {
    "state": {},
    "version_major": 2,
    "version_minor": 0
   }
  }
 },
 "nbformat": 4,
 "nbformat_minor": 5
}
