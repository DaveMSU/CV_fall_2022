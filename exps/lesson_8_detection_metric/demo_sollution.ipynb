{
 "cells": [
  {
   "cell_type": "code",
   "execution_count": 1,
   "id": "1fd11426",
   "metadata": {},
   "outputs": [],
   "source": [
    "import sys; sys.path.append(\"/home/david_tyuman/my_github/cv_fall_2022_dev/\")"
   ]
  },
  {
   "cell_type": "code",
   "execution_count": 4,
   "id": "72ebdce7",
   "metadata": {},
   "outputs": [],
   "source": [
    "from lib.datasets import ImageClassifyDataset\n",
    "import pathlib"
   ]
  },
  {
   "cell_type": "code",
   "execution_count": 21,
   "id": "e1a0b06c",
   "metadata": {},
   "outputs": [],
   "source": [
    "dt = ImageClassifyDataset(\n",
    "    inclusion_condition=lambda filename: True,\n",
    "    data_dir=pathlib.Path(\"/var/lib/storage/data/cv_fall_2022/lesson_8_detection_metric/images\"),\n",
    "    markup=ImageClassifyDataset.read_markup(\n",
    "        \"/var/lib/storage/data/cv_fall_2022/lesson_8_detection_metric/gt.csv\"\n",
    "    ),\n",
    "    new_size=(32, 32),\n",
    "    transforms=None,\n",
    "    classes_num=205\n",
    ")\n",
    "\n",
    "dt\n",
    "i = 0"
   ]
  },
  {
   "cell_type": "code",
   "execution_count": 85,
   "id": "91825dee",
   "metadata": {},
   "outputs": [
    {
     "data": {
      "text/plain": [
       "<matplotlib.image.AxesImage at 0x7f6b52a7e4f0>"
      ]
     },
     "execution_count": 85,
     "metadata": {},
     "output_type": "execute_result"
    },
    {
     "data": {
      "image/png": "[encoded data removed]",
      "text/plain": [
       "<Figure size 432x288 with 1 Axes>"
      ]
     },
     "metadata": {
      "needs_background": "light"
     },
     "output_type": "display_data"
    }
   ],
   "source": [
    "from matplotlib import pyplot as plt\n",
    "i += 1\n",
    "plt.imshow(dt[i][0].numpy().transpose(1, 2, 0))"
   ]
  },
  {
   "cell_type": "code",
   "execution_count": 216,
   "id": "df40721b",
   "metadata": {},
   "outputs": [
    {
     "name": "stdout",
     "output_type": "stream",
     "text": [
      "{'filename': 'cropped_train.1.1.023554.png', 'class_id': '0', 'class_name': '1.1', 'class_type': 'freq'}\n"
     ]
    }
   ],
   "source": [
    "import csv\n",
    "\n",
    "with open(\"/var/lib/storage/data/cv_fall_2022/lesson_8_detection_metric/gt.csv\", \"r\") as f:\n",
    "    reader = csv.reader(f)\n",
    "    keys = next(reader)\n",
    "    for raw_line in reader:\n",
    "        new_line = {k: raw_line[i] for i, k in enumerate(keys)}\n",
    "        print(new_line)\n",
    "        break\n",
    "    "
   ]
  },
  {
   "cell_type": "code",
   "execution_count": 86,
   "id": "8706c7da",
   "metadata": {},
   "outputs": [
    {
     "name": "stdout",
     "output_type": "stream",
     "text": [
      "train_pool.test.base  val_pool.test.base\r\n"
     ]
    }
   ],
   "source": [
    "!ls /var/lib/storage/resources/cv_fall_2022/lesson_8_detection_metric/pools"
   ]
  },
  {
   "cell_type": "code",
   "execution_count": 124,
   "id": "ab158453",
   "metadata": {},
   "outputs": [],
   "source": [
    "from torch.utils.data import DataLoader\n",
    "import pickle\n",
    "\n",
    "with open(\"/var/lib/storage/resources/cv_fall_2022/lesson_8_detection_metric/pools/train_pool.test.base\", \"rb\") as f:\n",
    "    dataloader = DataLoader(\n",
    "        dataset=pickle.load(f),\n",
    "        batch_size=5000,\n",
    "        shuffle=True\n",
    "    )"
   ]
  },
  {
   "cell_type": "code",
   "execution_count": 140,
   "id": "4d68a26a",
   "metadata": {},
   "outputs": [
    {
     "data": {
      "image/png": "[encoded data removed]",
      "text/plain": [
       "<Figure size 432x288 with 1 Axes>"
      ]
     },
     "metadata": {
      "needs_background": "light"
     },
     "output_type": "display_data"
    }
   ],
   "source": [
    "# for tmp in dataloader:\n",
    "#     break\n",
    "    \n",
    "plt.hist(tmp[-1][:, [0, 1]].numpy()[:, 0], 35);"
   ]
  },
  {
   "cell_type": "code",
   "execution_count": 150,
   "id": "de4fb51c",
   "metadata": {},
   "outputs": [
    {
     "data": {
      "text/plain": [
       "0.835"
      ]
     },
     "execution_count": 150,
     "metadata": {},
     "output_type": "execute_result"
    }
   ],
   "source": [
    "(tmp[-1][:, [0, 1]].numpy()[:, 1] < 50).mean()"
   ]
  },
  {
   "cell_type": "code",
   "execution_count": null,
   "id": "bbc0bc51",
   "metadata": {},
   "outputs": [],
   "source": []
  },
  {
   "cell_type": "code",
   "execution_count": null,
   "id": "d20716d6",
   "metadata": {},
   "outputs": [],
   "source": []
  },
  {
   "cell_type": "code",
   "execution_count": null,
   "id": "b1f08aec",
   "metadata": {},
   "outputs": [],
   "source": []
  },
  {
   "cell_type": "code",
   "execution_count": null,
   "id": "e57d4540",
   "metadata": {},
   "outputs": [],
   "source": []
  }
 ],
 "metadata": {
  "kernelspec": {
   "display_name": "Python 3 (ipykernel)",
   "language": "python",
   "name": "python3"
  },
  "language_info": {
   "codemirror_mode": {
    "name": "ipython",
    "version": 3
   },
   "file_extension": ".py",
   "mimetype": "text/x-python",
   "name": "python",
   "nbconvert_exporter": "python",
   "pygments_lexer": "ipython3",
   "version": "3.8.2"
  }
 },
 "nbformat": 4,
 "nbformat_minor": 5
}
